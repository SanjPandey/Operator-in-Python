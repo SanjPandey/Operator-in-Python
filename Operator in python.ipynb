{
 "cells": [
  {
   "cell_type": "code",
   "execution_count": 3,
   "id": "505b6e39",
   "metadata": {},
   "outputs": [],
   "source": [
    "# arithemetic operator"
   ]
  },
  {
   "cell_type": "code",
   "execution_count": 1,
   "id": "6b2ce94e",
   "metadata": {},
   "outputs": [
    {
     "name": "stdout",
     "output_type": "stream",
     "text": [
      "7\n",
      "3\n",
      "2.5\n",
      "2\n",
      "1\n",
      "10\n"
     ]
    }
   ],
   "source": [
    "a=5\n",
    "b=2\n",
    "print(a+b)\n",
    "print(a-b)\n",
    "print(a/b)\n",
    "print(a//b)  # give quotient  value\n",
    "print(a%b)\n",
    "print(a*b)\n"
   ]
  },
  {
   "cell_type": "code",
   "execution_count": 4,
   "id": "a7a53166",
   "metadata": {},
   "outputs": [],
   "source": [
    "#Relational operator"
   ]
  },
  {
   "cell_type": "code",
   "execution_count": 2,
   "id": "eafcde35",
   "metadata": {},
   "outputs": [
    {
     "name": "stdout",
     "output_type": "stream",
     "text": [
      "False\n",
      "True\n",
      "False\n",
      "True\n",
      "False\n"
     ]
    }
   ],
   "source": [
    "a=5\n",
    "b=4\n",
    "print(a==b)\n",
    "print(a!=b)\n",
    "print(a<b)\n",
    "print(a>=b)\n",
    "print(a<=b)"
   ]
  },
  {
   "cell_type": "code",
   "execution_count": 5,
   "id": "a8ed6221",
   "metadata": {},
   "outputs": [
    {
     "name": "stdout",
     "output_type": "stream",
     "text": [
      "False\n"
     ]
    }
   ],
   "source": [
    "a=\"5\"\n",
    "b=5\n",
    "print(a==b)"
   ]
  },
  {
   "cell_type": "code",
   "execution_count": 6,
   "id": "39b7357c",
   "metadata": {},
   "outputs": [],
   "source": [
    "#Assignment operator"
   ]
  },
  {
   "cell_type": "code",
   "execution_count": 7,
   "id": "336a40d1",
   "metadata": {},
   "outputs": [
    {
     "name": "stdout",
     "output_type": "stream",
     "text": [
      "10\n"
     ]
    }
   ],
   "source": [
    "a=5\n",
    "a=a+5\n",
    "print(a)"
   ]
  },
  {
   "cell_type": "code",
   "execution_count": 8,
   "id": "343fef05",
   "metadata": {},
   "outputs": [
    {
     "name": "stdout",
     "output_type": "stream",
     "text": [
      "8\n"
     ]
    }
   ],
   "source": [
    "a=5\n",
    "a+=3\n",
    "print(a)"
   ]
  },
  {
   "cell_type": "code",
   "execution_count": 9,
   "id": "f9c9758c",
   "metadata": {},
   "outputs": [],
   "source": [
    "#logical operator (And)"
   ]
  },
  {
   "cell_type": "code",
   "execution_count": 11,
   "id": "1770bd5c",
   "metadata": {},
   "outputs": [
    {
     "name": "stdout",
     "output_type": "stream",
     "text": [
      "True\n",
      "False\n"
     ]
    }
   ],
   "source": [
    "print(True and True)\n",
    "print(True and False)"
   ]
  },
  {
   "cell_type": "code",
   "execution_count": 13,
   "id": "54ecb4b4",
   "metadata": {},
   "outputs": [
    {
     "name": "stdout",
     "output_type": "stream",
     "text": [
      "False\n"
     ]
    }
   ],
   "source": [
    "print(not True)"
   ]
  },
  {
   "cell_type": "code",
   "execution_count": null,
   "id": "dd8f4d3b",
   "metadata": {},
   "outputs": [],
   "source": [
    "#Logical(or) Operator"
   ]
  },
  {
   "cell_type": "code",
   "execution_count": 12,
   "id": "cb856d48",
   "metadata": {},
   "outputs": [
    {
     "name": "stdout",
     "output_type": "stream",
     "text": [
      "True\n",
      "True\n"
     ]
    }
   ],
   "source": [
    "print(True or False) \n",
    "print(True or False)"
   ]
  },
  {
   "cell_type": "code",
   "execution_count": 14,
   "id": "f87c91a9",
   "metadata": {},
   "outputs": [],
   "source": [
    "#Loops \n",
    "#if,for,while\n"
   ]
  },
  {
   "cell_type": "code",
   "execution_count": 15,
   "id": "9d1d79c1",
   "metadata": {},
   "outputs": [],
   "source": [
    "name=\"Sachin\""
   ]
  },
  {
   "cell_type": "code",
   "execution_count": 19,
   "id": "1d2be5e6",
   "metadata": {},
   "outputs": [
    {
     "name": "stdout",
     "output_type": "stream",
     "text": [
      "yes\n"
     ]
    }
   ],
   "source": [
    "if name == \"Sachin\":\n",
    "    print(\"yes\")"
   ]
  },
  {
   "cell_type": "code",
   "execution_count": 16,
   "id": "aad73c5d",
   "metadata": {},
   "outputs": [
    {
     "name": "stdout",
     "output_type": "stream",
     "text": [
      "yes\n"
     ]
    }
   ],
   "source": [
    "if name==\"Sachin\":\n",
    "    print(\"yes\")\n",
    "else:\n",
    "    print(\"no\")"
   ]
  },
  {
   "cell_type": "code",
   "execution_count": 20,
   "id": "e799623c",
   "metadata": {},
   "outputs": [],
   "source": [
    "a=10\n",
    "b=2"
   ]
  },
  {
   "cell_type": "code",
   "execution_count": 21,
   "id": "147e9b9b",
   "metadata": {},
   "outputs": [
    {
     "name": "stdout",
     "output_type": "stream",
     "text": [
      "even\n"
     ]
    }
   ],
   "source": [
    "if a%2==0:\n",
    "    print(\"even\")"
   ]
  },
  {
   "cell_type": "code",
   "execution_count": 22,
   "id": "5450b6c4",
   "metadata": {},
   "outputs": [],
   "source": [
    "#multiple condition if,else"
   ]
  },
  {
   "cell_type": "code",
   "execution_count": 23,
   "id": "981a44bf",
   "metadata": {},
   "outputs": [],
   "source": [
    "name=\"Sachin\"\n",
    "mark=65"
   ]
  },
  {
   "cell_type": "code",
   "execution_count": 24,
   "id": "2f3c6d2f",
   "metadata": {},
   "outputs": [
    {
     "name": "stdout",
     "output_type": "stream",
     "text": [
      "pass\n"
     ]
    }
   ],
   "source": [
    "if name==\"Sachin\" and mark>50:\n",
    "    print(\"pass\")\n",
    "elif(name==\"Sachin\" and mark>60):\n",
    "    print(\"distinction\")\n",
    "else:\n",
    "    print(\"fail\")"
   ]
  },
  {
   "cell_type": "code",
   "execution_count": 25,
   "id": "ec34032b",
   "metadata": {},
   "outputs": [
    {
     "name": "stdout",
     "output_type": "stream",
     "text": [
      "pass\n",
      "distinction\n"
     ]
    }
   ],
   "source": [
    "if name==\"Sachin\" and mark>50:\n",
    "    print(\"pass\")\n",
    "if name==\"Sachin\" and mark>60:\n",
    "    print(\"distinction\")\n",
    "else:\n",
    "    print(\"fail\")"
   ]
  },
  {
   "cell_type": "code",
   "execution_count": 26,
   "id": "3ad19f4f",
   "metadata": {},
   "outputs": [
    {
     "name": "stdout",
     "output_type": "stream",
     "text": [
      "name is not sachin\n"
     ]
    }
   ],
   "source": [
    "name=\"kohli\"\n",
    "if name==\"sachin\":\n",
    "    if mark> 50:\n",
    "        if mark>60:\n",
    "            print(\"dist\")\n",
    "        else:\n",
    "            print(\"first grade\")\n",
    "    else:\n",
    "        print(\"fail\")\n",
    "else:\n",
    "    print(\"name is not sachin\")"
   ]
  },
  {
   "cell_type": "code",
   "execution_count": null,
   "id": "620a6ad6",
   "metadata": {},
   "outputs": [],
   "source": []
  }
 ],
 "metadata": {
  "kernelspec": {
   "display_name": "Python 3 (ipykernel)",
   "language": "python",
   "name": "python3"
  },
  "language_info": {
   "codemirror_mode": {
    "name": "ipython",
    "version": 3
   },
   "file_extension": ".py",
   "mimetype": "text/x-python",
   "name": "python",
   "nbconvert_exporter": "python",
   "pygments_lexer": "ipython3",
   "version": "3.11.5"
  }
 },
 "nbformat": 4,
 "nbformat_minor": 5
}
